{
 "cells": [
  {
   "cell_type": "code",
   "execution_count": 18,
   "metadata": {},
   "outputs": [],
   "source": [
    "import json\n",
    "import networkx as nx\n",
    "\n",
    "with open(\"graph2.txt\", \"r\") as f:\n",
    "  text = eval(f.read())\n",
    "\n",
    "nxgraph = nx.from_dict_of_lists(text)\n",
    "\n",
    "team_users_ids = [146450741, 150650454, 196656674, 211392424, 142332761]"
   ]
  },
  {
   "cell_type": "code",
   "execution_count": 42,
   "metadata": {},
   "outputs": [],
   "source": [
    "eigenvector_centers = list(nx.eigenvector_centrality(nxgraph, max_iter=1000).items())\n",
    "sorted_eigenvector_centers =  dict(sorted(eigenvector_centers, key=lambda i: i[1], reverse=True))"
   ]
  },
  {
   "cell_type": "code",
   "execution_count": 43,
   "metadata": {},
   "outputs": [
    {
     "name": "stdout",
     "output_type": "stream",
     "text": [
      "User name 146450741 with value 0.05112283643735244\n",
      "User name 150650454 with value 0.05190792575389247\n",
      "User name 196656674 with value 0.05748428272268986\n",
      "User name 211392424 with value 0.024929253513645284\n",
      "User name 142332761 with value 0.0022423534426308815\n"
     ]
    }
   ],
   "source": [
    "for user_id in team_users_ids:\n",
    "    if user_id in sorted_eigenvector_centers:\n",
    "        print(f\"User name {user_id} with value {sorted_eigenvector_centers[user_id]}\")\n",
    "    else:\n",
    "        print(f\"User {user_id} not in dataset\")"
   ]
  },
  {
   "cell_type": "code",
   "execution_count": 21,
   "metadata": {},
   "outputs": [
    {
     "name": "stdout",
     "output_type": "stream",
     "text": [
      "Calculating closeness centrality of graph\n",
      "Сloseness centrality of graph calculated ...\n",
      "User name 146450741 with value 0.355071554104946\n",
      "User name 150650454 with value 0.3813150888072529\n",
      "User name 196656674 with value 0.3813150888072529\n",
      "User name 211392424 with value 0.34418349963494765\n",
      "User name 142332761 with value 0.3059822587624405\n"
     ]
    }
   ],
   "source": [
    "closeness_res = {user_id: nx.closeness_centrality(nxgraph, user_id) for user_id in team_users_ids}\n",
    "for user_id in team_users_ids:\n",
    "    print(f\"User name {user_id} with value {closeness_res[user_id]}\")"
   ]
  },
  {
   "cell_type": "code",
   "execution_count": null,
   "metadata": {},
   "outputs": [],
   "source": [
    "betweenness_centers = list(nx.betweenness_centrality(nxgraph).items())\n",
    "sorted_betweenness_centers = dict(sorted(betweenness_centers, key=lambda i: i[1], reverse=True))"
   ]
  },
  {
   "cell_type": "code",
   "execution_count": 45,
   "metadata": {},
   "outputs": [
    {
     "name": "stdout",
     "output_type": "stream",
     "text": [
      "User name 146450741 with value 0.144581812009727\n",
      "User name 150650454 with value 0.18803754563324573\n",
      "User name 196656674 with value 0.2712732910301778\n",
      "User name 211392424 with value 0.22766873599035883\n",
      "User name 142332761 with value 0.14832322627350586\n"
     ]
    }
   ],
   "source": [
    "for user_id in team_users_ids:\n",
    "    if user_id in sorted_betweenness_centers:\n",
    "        print(f\"User name {user_id} with value {sorted_betweenness_centers[user_id]}\")\n",
    "    else:\n",
    "        print(f\"User {user_id} not in dataset\")"
   ]
  }
 ],
 "metadata": {
  "kernelspec": {
   "display_name": "venv",
   "language": "python",
   "name": "python3"
  },
  "language_info": {
   "codemirror_mode": {
    "name": "ipython",
    "version": 3
   },
   "file_extension": ".py",
   "mimetype": "text/x-python",
   "name": "python",
   "nbconvert_exporter": "python",
   "pygments_lexer": "ipython3",
   "version": "3.9.5"
  }
 },
 "nbformat": 4,
 "nbformat_minor": 2
}
